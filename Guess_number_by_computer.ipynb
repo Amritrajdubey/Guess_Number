{
 "cells": [
  {
   "cell_type": "code",
   "execution_count": 2,
   "id": "f3db902e",
   "metadata": {},
   "outputs": [],
   "source": [
    "import random\n",
    "\n",
    "def computer_guess(x):\n",
    "    low = 1\n",
    "    high = x\n",
    "    feedback =''\n",
    "    \n",
    "    while feedback != 'C':\n",
    "        if low != high:\n",
    "            guess = random.randint(low,high)\n",
    "        else:\n",
    "            guess = low\n",
    "        feedback = input(f'Is {guess} number low(L) , High(H) or correct(c).')\n",
    "        if feedback == 'L':\n",
    "            low = guess +1\n",
    "        elif feedback == 'H':\n",
    "            high = guess -1\n",
    "    \n",
    "    print(f'Hurray !Computer guessed your number {guess} correctly.')"
   ]
  },
  {
   "cell_type": "code",
   "execution_count": 3,
   "id": "fe160ca2",
   "metadata": {},
   "outputs": [
    {
     "name": "stdout",
     "output_type": "stream",
     "text": [
      "Is 6 number low(L) , High(H) or correct(c).H\n",
      "Is 4 number low(L) , High(H) or correct(c).H\n",
      "Is 2 number low(L) , High(H) or correct(c).L\n",
      "Is 3 number low(L) , High(H) or correct(c).C\n",
      "Hurray !Computer guessed your number 3 correctly.\n"
     ]
    }
   ],
   "source": [
    "computer_guess(10)"
   ]
  },
  {
   "cell_type": "code",
   "execution_count": null,
   "id": "8c4a6153",
   "metadata": {},
   "outputs": [],
   "source": []
  }
 ],
 "metadata": {
  "kernelspec": {
   "display_name": "Python 3 (ipykernel)",
   "language": "python",
   "name": "python3"
  },
  "language_info": {
   "codemirror_mode": {
    "name": "ipython",
    "version": 3
   },
   "file_extension": ".py",
   "mimetype": "text/x-python",
   "name": "python",
   "nbconvert_exporter": "python",
   "pygments_lexer": "ipython3",
   "version": "3.9.13"
  }
 },
 "nbformat": 4,
 "nbformat_minor": 5
}
