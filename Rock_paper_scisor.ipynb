{
 "cells": [
  {
   "cell_type": "code",
   "execution_count": 14,
   "id": "9ac7c277",
   "metadata": {},
   "outputs": [],
   "source": [
    "import random\n",
    "\n",
    "def Is_win(Player,Opponent): # Creating the function to decide all winning possibilities.\n",
    "    # r > s , s > p , p > r\n",
    "    if (Player == 'r' and Opponent == 's') or (Player == 's' and Opponent == 'p') or \\\n",
    "    (Player == 'p' or Opponent == 'r'):\n",
    "        return True\n",
    "    \n",
    "\n",
    "def play_rock_paper_scissor():\n",
    "    # Taking input from user regarding his choice\n",
    "    user = input(\"What\\'s your choice 'r' for Rock , 'p' for Paper ,'s' for Scissor\")\n",
    "    computer = random.choice(['r','p','s']) # Predicting random out of rock , paper and scissor.\n",
    "    \n",
    "    if user == computer:\n",
    "        return 'Its a tie'\n",
    "    \n",
    "    if Is_win(user,computer):\n",
    "        return 'You Won'\n",
    "    \n",
    "    return 'You Lose'"
   ]
  },
  {
   "cell_type": "code",
   "execution_count": 24,
   "id": "9c06584d",
   "metadata": {},
   "outputs": [
    {
     "name": "stdout",
     "output_type": "stream",
     "text": [
      "What's your choice 'r' for Rock , 'p' for Paper ,'s' for Scissorr\n"
     ]
    },
    {
     "data": {
      "text/plain": [
       "'You Lose'"
      ]
     },
     "execution_count": 24,
     "metadata": {},
     "output_type": "execute_result"
    }
   ],
   "source": [
    "play_rock_paper_scissor()"
   ]
  },
  {
   "cell_type": "code",
   "execution_count": null,
   "id": "d0cb05ef",
   "metadata": {},
   "outputs": [],
   "source": []
  }
 ],
 "metadata": {
  "kernelspec": {
   "display_name": "Python 3 (ipykernel)",
   "language": "python",
   "name": "python3"
  },
  "language_info": {
   "codemirror_mode": {
    "name": "ipython",
    "version": 3
   },
   "file_extension": ".py",
   "mimetype": "text/x-python",
   "name": "python",
   "nbconvert_exporter": "python",
   "pygments_lexer": "ipython3",
   "version": "3.9.13"
  }
 },
 "nbformat": 4,
 "nbformat_minor": 5
}
